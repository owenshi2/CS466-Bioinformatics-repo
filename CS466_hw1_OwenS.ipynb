{
  "cells": [
    {
      "cell_type": "markdown",
      "metadata": {
        "id": "view-in-github",
        "colab_type": "text"
      },
      "source": [
        "<a href=\"https://colab.research.google.com/github/owenshi2/CS466-Bioinformatics-repo/blob/main/CS466_hw1_OwenS.ipynb\" target=\"_parent\"><img src=\"https://colab.research.google.com/assets/colab-badge.svg\" alt=\"Open In Colab\"/></a>"
      ]
    },
    {
      "cell_type": "markdown",
      "metadata": {
        "id": "lp7tRZfFOZg6"
      },
      "source": [
        "Before you turn this problem in, make sure everything runs as expected. First, **restart the kernel** (in the menubar, select Runtime$\\rightarrow$Factory reset runtime) and then **run all cells** (in the menubar, select Runtime$\\rightarrow$Run all).\n",
        "\n",
        "Make sure you fill in any place that says `YOUR CODE HERE` or \"YOUR ANSWER HERE\". Fill out your name below in the `NAME` variable."
      ]
    },
    {
      "cell_type": "code",
      "execution_count": 78,
      "metadata": {
        "id": "t4fnV9HOOZg8"
      },
      "outputs": [],
      "source": [
        "NAME = \"Owen Shi\""
      ]
    },
    {
      "cell_type": "markdown",
      "metadata": {
        "id": "GuYaB4NSOZhA"
      },
      "source": [
        "---"
      ]
    },
    {
      "cell_type": "markdown",
      "metadata": {
        "id": "PVLNYCWDo26k"
      },
      "source": [
        "Install required dependency."
      ]
    },
    {
      "cell_type": "code",
      "execution_count": 79,
      "metadata": {
        "colab": {
          "base_uri": "https://localhost:8080/"
        },
        "id": "tE5E-gV6o7tv",
        "outputId": "494e3212-b446-488e-c3e9-e7d7aad3555c"
      },
      "outputs": [
        {
          "output_type": "stream",
          "name": "stdout",
          "text": [
            "Requirement already satisfied: nose in /usr/local/lib/python3.10/dist-packages (1.3.7)\n"
          ]
        }
      ],
      "source": [
        "!pip install nose"
      ]
    },
    {
      "cell_type": "markdown",
      "metadata": {
        "id": "PsqONjBfSWhx"
      },
      "source": [
        "Download the required data."
      ]
    },
    {
      "cell_type": "code",
      "execution_count": 80,
      "metadata": {
        "colab": {
          "base_uri": "https://localhost:8080/"
        },
        "id": "RXlcaWyKQ6kt",
        "outputId": "ef406da4-b5e0-4cbb-f705-72774745effd"
      },
      "outputs": [
        {
          "output_type": "stream",
          "name": "stdout",
          "text": [
            "--2023-09-20 01:59:08--  https://drive.google.com/uc?export=download&id=1rh6Rgjoyloyp2hPhTlOBD16yc7sc3gPy\n",
            "Resolving drive.google.com (drive.google.com)... 74.125.141.113, 74.125.141.138, 74.125.141.102, ...\n",
            "Connecting to drive.google.com (drive.google.com)|74.125.141.113|:443... connected.\n",
            "HTTP request sent, awaiting response... 416 Requested range not satisfiable\n",
            "\n",
            "    The file is already fully retrieved; nothing to do.\n",
            "\n",
            "Archive:  data.zip\n",
            "  inflating: BLOSUM62.txt            \n",
            "  inflating: Q2b_reference.txt       \n"
          ]
        }
      ],
      "source": [
        "!wget -c 'https://drive.google.com/uc?export=download&id=1rh6Rgjoyloyp2hPhTlOBD16yc7sc3gPy' -O data.zip\n",
        "!unzip -o data.zip"
      ]
    },
    {
      "cell_type": "markdown",
      "metadata": {
        "id": "HXQN16TjqcLN"
      },
      "source": [
        "Show the downloaded data\n",
        "\n",
        "- `./BLOSUM62.txt`\n",
        "- `./Q2b_reference.txt`\n"
      ]
    },
    {
      "cell_type": "code",
      "execution_count": 81,
      "metadata": {
        "colab": {
          "base_uri": "https://localhost:8080/"
        },
        "id": "81otexY9qQhK",
        "outputId": "08cd485e-014c-4662-bf41-15595e21983b"
      },
      "outputs": [
        {
          "output_type": "stream",
          "name": "stdout",
          "text": [
            "BLOSUM62.txt  Q2b_reference.txt\n"
          ]
        }
      ],
      "source": [
        "!ls *.txt"
      ]
    },
    {
      "cell_type": "markdown",
      "metadata": {
        "id": "cU1S-CaROZhA"
      },
      "source": [
        "# Sequence Alignment\n",
        "\n",
        "In bioinformatics, the problem of sequence alignment is reducible to a generalized form of edit distance. Sequence alignment is an instance of the weighted edit distance problem. Here, the cost of the elementary operations may vary according to the symbols involved. This generalization allows us to more accurately model processes in biological sequences that may lead to substitutions, insertions or deletions.\n",
        "\n",
        "As we saw in lecture, we can store the costs of elementary operations in the form of a scoring matrix $\\delta :$ ($\\Sigma$ $\\cup$ $\\{-\\})^{2}\\rightarrow$ $\\mathbb{R}$. The values of this scoring matrix depend on the biological context.\n",
        "\n",
        "## BLOSUM62\n",
        "\n",
        "The most widely used scoring matrix in amino acid sequence alignments is known as BLOSUM62. You can read more about BLOSUM here:\n",
        "\n",
        "* https://www.sciencedirect.com/topics/biochemistry-genetics-and-molecular-biology/blosum\n",
        "* https://en.wikipedia.org/wiki/BLOSUM\n",
        "\n",
        "The BLOSUM.txt file that came in the HW1_supplement.zip contains the matrix. You can also download the BLOSUM62 matrix at https://www.ncbi.nlm.nih.gov/Class/FieldGuide/BLOSUM62.txt\n",
        "\n",
        "Note:\n",
        "* The `read_blosum62` function is specifically tailored to read only the file above. You should not need to change this function.\n",
        "* The matrix uses the `*` character for gaps, but we change it here to the `-` character."
      ]
    },
    {
      "cell_type": "code",
      "execution_count": 82,
      "metadata": {
        "id": "koon2oagOZhB"
      },
      "outputs": [],
      "source": [
        "def read_blosum62(path):\n",
        "    \"\"\"\n",
        "    Reads in the ncbi's BLOSUM62.txt file and loads the scoring matrix\n",
        "    into a dictionary.\n",
        "\n",
        "    :param: path is the full path in the local filesystem at which the .txt file is located\n",
        "    :return: a dictionary of dictionaries which will hold the cost of various amino acid\n",
        "    substitutions as defined in BLOSUM62.\n",
        "    \"\"\"\n",
        "    delta = {}\n",
        "    with open(path, 'r') as f:\n",
        "        lines = f.readlines()[6:]\n",
        "        keys = lines[0].split()\n",
        "        keys[-1] = '-'\n",
        "        for i, line in enumerate(lines[1:]):\n",
        "            delta[keys[i]] = {k : int(v) for (k,v) in zip(keys, line.split()[1:])}\n",
        "    return delta\n",
        "\n",
        "blosum = read_blosum62('./BLOSUM62.txt')"
      ]
    },
    {
      "cell_type": "markdown",
      "metadata": {
        "id": "WAKc2TT1OZhI"
      },
      "source": [
        "## Question 1a - Global Alignment - 10 points\n",
        "\n",
        "Complete the function `global_align` defined below that uses the Needleman-Wunsch algorithm for global sequence alignment. The function should take two strings, and a scoring function, and compute the score of the optimal global alignment. It should return a tuple `(best score, optimal alignment)`.\n",
        "\n",
        "We have provided a function `traceback_global` that takes the two strings `v` and `w`, and a list of lists called\n",
        "`pointers`. This list is what you will use to record backpointers while running your sequence alignment algorithm.\n",
        "Each `pointers[i][j]` will be one of `UP`, `LEFT`, `TOPLEFT` or `ORIGIN`. The `traceback_global` function will insert gaps into the two strings where necessary, according to the backpointer table you pass it, and return the alignment to you.\n",
        "\n",
        "*Hint: Feel free to define helper functions for this and future questions on this notebook.*"
      ]
    },
    {
      "cell_type": "code",
      "execution_count": 83,
      "metadata": {
        "id": "GYSXMRcOOZhK"
      },
      "outputs": [],
      "source": [
        "# import numpy as np\n",
        "UP = (-1,0)\n",
        "LEFT = (0, -1)\n",
        "TOPLEFT = (-1, -1)\n",
        "ORIGIN = (0, 0)\n",
        "\n",
        "\n",
        "def traceback_global(v, w, pointers):\n",
        "    i,j = len(v), len(w)\n",
        "    new_v = []\n",
        "    new_w = []\n",
        "    while True:\n",
        "        di, dj = pointers[i][j]\n",
        "        if (di,dj) == LEFT:\n",
        "            new_v.append('-')\n",
        "            new_w.append(w[j-1])\n",
        "        elif (di,dj) == UP:\n",
        "            new_v.append(v[i-1])\n",
        "            new_w.append('-')\n",
        "        elif (di,dj) == TOPLEFT:\n",
        "            new_v.append(v[i-1])\n",
        "            new_w.append(w[j-1])\n",
        "        i, j = i + di, j + dj\n",
        "        if (i <= 0 and j <= 0):\n",
        "            break\n",
        "    return ''.join(new_v[::-1])+'\\n'+''.join(new_w[::-1])\n",
        "\n",
        "\n",
        "\n",
        "def global_align(v, w, delta):\n",
        "    \"\"\"\n",
        "    Returns the score of the maximum scoring alignment of the strings v and w, as well as the actual alignment as\n",
        "    computed by traceback_global.\n",
        "\n",
        "    :param: v = first string\n",
        "    :param: w = second string\n",
        "    :param: delta = scoring function, dict of dict containing match/mismatch for each letter. Ex. {'A' : {'A' : 1, 'C' : -1, ...}, ...}\n",
        "    \"\"\"\n",
        "    M = [[0 for j in range(len(w)+1)] for i in range(len(v)+1)] #2d list of 0\n",
        "    pointers = [[ORIGIN for j in range(len(w)+1)] for i in range(len(v)+1)] # 2d list of (0, 0)\n",
        "    # YOUR CODE HERE\n",
        "    xlen = len(v)\n",
        "    ylen = len(w)\n",
        "    score, alignment = None, None\n",
        "    # threeple = np.zeros(3)\n",
        "    # M = np.array(M)\n",
        "    # pointers = np.array(pointers)\n",
        "    # M[:,0] = np.linspace(0, xlen * -1, xlen+1)\n",
        "    # M[0,:] = np.linspace(0, ylen * -1, ylen+1)\n",
        "    for i in range(1, xlen + 1):\n",
        "        M[i][0] = M[i-1][0] + delta[v[i-1]]['-']\n",
        "    for i in range(1, xlen + 1):\n",
        "        pointers[i][0] = UP\n",
        "\n",
        "    for i in range(1, ylen + 1):\n",
        "      M[0][i] = M[0][i-1] + delta['-'][w[i-1]]\n",
        "    for i in range(1, ylen + 1):\n",
        "      pointers[0][i] = LEFT\n",
        "\n",
        "    # pointers[:,0] = UP\n",
        "    # pointers[0,:] = LEFT\n",
        "    for i in range(1, xlen + 1):\n",
        "        for j in range(1, ylen + 1):\n",
        "          matched = M[i-1][j-1] + delta[v[i-1]][w[j-1]]\n",
        "          deletion = M[i-1][j] + delta[v[i-1]]['-']\n",
        "          insertion = M[i][j-1] + delta['-'][w[j-1]]\n",
        "\n",
        "          M[i][j] = max(matched, deletion, insertion)\n",
        "\n",
        "          if M[i][j] == matched:\n",
        "            pointers[i][j] = TOPLEFT\n",
        "            continue\n",
        "          if M[i][j] == deletion:\n",
        "            pointers[i][j] = UP\n",
        "            continue\n",
        "          pointers[i][j] = LEFT\n",
        "        # print(currTop, currSide, delta[currTop][currSide], M[i+1][j+1]) #i+1/j+1 for current\n",
        "    # raise NotImplementedError()\n",
        "    score = M[xlen][ylen]\n",
        "    alignment = traceback_global(v,w, pointers)\n",
        "    return score, alignment"
      ]
    },
    {
      "cell_type": "code",
      "execution_count": 84,
      "metadata": {
        "colab": {
          "base_uri": "https://localhost:8080/"
        },
        "id": "YDB27GULOZhQ",
        "outputId": "c7e998ef-9b4f-4dc2-f7e1-6e4cea175ba5"
      },
      "outputs": [
        {
          "output_type": "execute_result",
          "data": {
            "text/plain": [
              "(-3, '-TA-G----A---TA\\nGTAGGCTTAAGGTTA')"
            ]
          },
          "metadata": {},
          "execution_count": 84
        }
      ],
      "source": [
        "keys = ['A', 'C', 'T', 'G', '-']\n",
        "delta = {}\n",
        "for i in range(len(keys)):\n",
        "    delta[keys[i]] = {k : v for (k,v) in zip(keys, [1 if keys[i] == keys[j]  else -1 for j in range(len(keys))])}\n",
        "\n",
        "global_align(\"TAGATA\", \"GTAGGCTTAAGGTTA\", delta)"
      ]
    },
    {
      "cell_type": "markdown",
      "metadata": {
        "id": "q5vkthR4OZhZ"
      },
      "source": [
        "## Question 1b -- Global Alignment, Protein Data Bank -- 5 points\n",
        "\n",
        "https://www.rcsb.org/ provides a database of most known proteins. The search functionality allows us to find information on proteins via their *PDB ID* (https://www.rcsb.org/pdb/staticHelp.do?p=help/advancedsearch/pdbIDs.html). You can get the exact amino acid sequence of chains in a protein by searching via the PDB ID, then under the *Display Files* dropdown menu, clicking *FASTA Sequence*.\n",
        "\n",
        "Use the function `global_align` with the BLOSUM62 scoring matrix to find the alignment score for the following pairs of amino acid sequences\n",
        "* The A-chain of human insulin (#4F1C:A) and the A-chain of bovine insulin (#2ZP6:A). Set the variable `scoreA` below to this value.\n",
        "* The B-chain of the above proteins. Set the variable `scoreB` below to this value.\n",
        "* Set the `alignmentA` and `alignmentB` variables to the output of `traceback_global` function for both chains."
      ]
    },
    {
      "cell_type": "code",
      "execution_count": 85,
      "metadata": {
        "colab": {
          "base_uri": "https://localhost:8080/"
        },
        "id": "0ufBjeDAOZha",
        "outputId": "bf0f6ff3-cf7e-49b3-da04-647d038d66fe"
      },
      "outputs": [
        {
          "output_type": "stream",
          "name": "stdout",
          "text": [
            "(115, 'GIVEQCCTSICSLYQLENYCN\\nGIVEQCCASVCSLYQLENYCN')\n",
            "(163, 'FVNQHLCGSHLVEALYLVCGERGFFYTPKT\\nFVNQHLCGSHLVEALYLVCGERGFFYTPKA')\n"
          ]
        }
      ],
      "source": [
        "A = global_align(\"GIVEQCCTSICSLYQLENYCN\", \"GIVEQCCASVCSLYQLENYCN\", blosum)\n",
        "B = global_align(\"FVNQHLCGSHLVEALYLVCGERGFFYTPKT\", \"FVNQHLCGSHLVEALYLVCGERGFFYTPKA\", blosum)\n",
        "scoreA = A[0]\n",
        "scoreB = B[0]\n",
        "alignmentA = A[1]\n",
        "alignmentB = B[1]\n",
        "# YOUR CODE HERE\n",
        "print(A)\n",
        "print(B)"
      ]
    },
    {
      "cell_type": "code",
      "execution_count": 86,
      "metadata": {
        "id": "1wF4ZXevOZhd"
      },
      "outputs": [],
      "source": [
        "import nose.tools as Test\n",
        "\n",
        "# Student test cases (You may add more)\n",
        "Test.assert_equal(global_align('LRRGEPVY', 'LEKGDTLYILVG', blosum)[0], 5)\n",
        "Test.assert_equal(global_align('ALYFFT', 'QCASVT', blosum)[0], -2)\n",
        "keys = ['A', 'C', 'T', 'G', '-']\n",
        "delta = {}\n",
        "for i in range(len(keys)):\n",
        "    delta[keys[i]] = {k : v for (k,v) in zip(keys, [1 if keys[i] == keys[j]  else -1 for j in range(len(keys))])}\n",
        "Test.assert_equal(global_align('GTTTTATAGC', 'TGGATCGAT', delta)[0], -3)\n"
      ]
    },
    {
      "cell_type": "markdown",
      "metadata": {
        "id": "JwAWBxVcOZhg"
      },
      "source": [
        "## Question 2a - Fitting Alignment - 10 points\n",
        "\n",
        "As we know, next generation sequencing doesn't produce a fully sequenced genome, but rather many short reads. Here, we use fitting alignment.\n",
        "\n",
        "Complete the `fitting_align` function defined below. The function should take a short read string, a reference genome string, and a scoring matrix, and return the score of the maximum scoring alignment of the short read and all substrings of the reference string, along with the actual fitting alignmnet as computed by the given function `traceback_fitting`. This function is similar to `traceback_global` but also requires you to pass in your dynamic programming table `M`, as well as the starting column for the backtrace `init_j`.\n",
        "\n",
        "** Note: In the case of ties with respect to determining the starting column for the backtrace, use the rightmost.**"
      ]
    },
    {
      "cell_type": "code",
      "execution_count": 87,
      "metadata": {
        "id": "DE_7Cs8TOZhi"
      },
      "outputs": [],
      "source": [
        "UP = (-1,0)\n",
        "LEFT = (0, -1)\n",
        "TOPLEFT = (-1, -1)\n",
        "ORIGIN = (0, 0)\n",
        "\n",
        "def traceback_fitting(v, w, M, init_j, pointers):\n",
        "    i, j = len(v), init_j\n",
        "    new_v = []\n",
        "    new_w = []\n",
        "    while True:\n",
        "        di, dj = pointers[i][j]\n",
        "        if (di,dj) == LEFT:\n",
        "            new_v.append('-')\n",
        "            new_w.append(w[j-1])\n",
        "        elif (di,dj) == UP:\n",
        "            new_v.append(v[i-1])\n",
        "            new_w.append('-')\n",
        "        elif (di,dj) == TOPLEFT:\n",
        "            new_v.append(v[i-1])\n",
        "            new_w.append(w[j-1])\n",
        "        i, j = i + di, j + dj\n",
        "        if (i <= 0):\n",
        "            break\n",
        "    return ''.join(new_v[::-1]) + '\\n'+''.join(new_w[::-1])\n",
        "\n",
        "def fitting_align(short, reference, delta):\n",
        "    \"\"\"\n",
        "    Returns the score of the maximum scoring alignment of short and all\n",
        "    substrings of reference.\n",
        "\n",
        "    :param: short the shorter of the two strings we are trying to align\n",
        "    :param: reference the longer string among whose substrings we are doing global alignment\n",
        "    :param: delta the scoring function for the alphabet of the two strings\n",
        "\n",
        "    :returns: a tuple (score, alignment)\n",
        "    \"\"\"\n",
        "    M = [[0 for j in range(len(reference)+1)] for i in range(len(short)+1)]\n",
        "    pointers = [[ORIGIN for j in range(len(reference)+1)] for i in range(len(short)+1)]\n",
        "    score = None\n",
        "    init_j = 0\n",
        "    # YOUR CODE HERE\n",
        "    xlen = len(short)\n",
        "    ylen = len(reference)\n",
        "    # M = np.array(M)\n",
        "    # for i in range(1, xlen + 1):\n",
        "    #     M[i][0] = 0#M[i-1][0] + delta[short[i-1]]['-']\n",
        "    for i in range(1, xlen + 1):\n",
        "        pointers[i][0] = UP\n",
        "\n",
        "    # for i in range(1, ylen + 1):\n",
        "    #   M[0][i] = 0#M[0][i-1] + delta['-'][reference[i-1]]\n",
        "    for i in range(1, ylen + 1):\n",
        "      pointers[0][i] = LEFT\n",
        "\n",
        "    # pointers[:,0] = UP\n",
        "    # pointers[0,:] = LEFT\n",
        "    for i in range(1, xlen + 1):\n",
        "        for j in range(1, ylen + 1):\n",
        "          matched = M[i-1][j-1] + delta[short[i-1]][reference[j-1]]\n",
        "          deletion = M[i-1][j] + delta[short[i-1]]['-']\n",
        "          insertion = M[i][j-1] + delta['-'][reference[j-1]]\n",
        "\n",
        "          M[i][j] = max(matched, deletion, insertion)\n",
        "\n",
        "          if M[i][j] == matched:\n",
        "            pointers[i][j] = TOPLEFT\n",
        "            continue\n",
        "          if M[i][j] == deletion:\n",
        "            pointers[i][j] = UP\n",
        "            continue\n",
        "          pointers[i][j] = LEFT\n",
        "    score = max(M[-1])\n",
        "    init_j = len(M[-1]) - M[-1][::-1].index(score) - 1\n",
        "    alignment = traceback_fitting(short,reference,M, init_j,pointers)\n",
        "    return score, alignment"
      ]
    },
    {
      "cell_type": "code",
      "execution_count": 88,
      "metadata": {
        "colab": {
          "base_uri": "https://localhost:8080/"
        },
        "id": "SBkmkQnOOZho",
        "outputId": "9a28950e-d35a-41a7-c3e3-7e8b01a3a8ed"
      },
      "outputs": [
        {
          "output_type": "execute_result",
          "data": {
            "text/plain": [
              "(2, 'T-A-GATA\\nTAAGGTTA')"
            ]
          },
          "metadata": {},
          "execution_count": 88
        }
      ],
      "source": [
        "keys = ['A', 'C', 'T', 'G', '-']\n",
        "delta = {}\n",
        "for i in range(len(keys)):\n",
        "    delta[keys[i]] = {k : v for (k,v) in zip(keys, [1 if keys[i] == keys[j]  else -1 for j in range(len(keys))])}\n",
        "\n",
        "fitting_align(\"TAGATA\", \"GTAGGCTTAAGGTTA\", delta)"
      ]
    },
    {
      "cell_type": "code",
      "execution_count": 89,
      "metadata": {
        "id": "FXxKgA-eOZhu"
      },
      "outputs": [],
      "source": [
        "import nose.tools as Test\n",
        "\n",
        "# Define scoring matrix\n",
        "keys = ['A', 'C', 'T', 'G', '-']\n",
        "delta = {}\n",
        "for i in range(len(keys)):\n",
        "    delta[keys[i]] = {k : v for (k,v) in zip(keys, [1 if keys[i] == keys[j]  else -1 for j in range(len(keys))])}\n",
        "delta['-']['-'] = -1\n",
        "\n",
        "# Student test cases (You can add more)\n",
        "Test.assert_equal(fitting_align('ACTGCT', 'ACTGTCGTACGTGTACGTGCTATTACGATTCGGATGCATTGTGCATTTGGGCGATCTTATTCTTATC', delta)[0],\\\n",
        "                  5)\n",
        "Test.assert_equal(fitting_align('PPPVP','MHHHHHHSSPIDPPGKPVPLNITRHTVTLKWAKPEYTGGFKITSYIVEKRDLPNGRWLKANFSNILENEFTVSGLTEDAA\\\n",
        "YEFRVIAKNAAGAISPPSEPSDAITCRDDVEA', blosum)[0], 24)\n"
      ]
    },
    {
      "cell_type": "markdown",
      "metadata": {
        "id": "uOeVGMqQJN1J"
      },
      "source": [
        "## Question 2b - Fitting Alignment - 5 points\n",
        "\n",
        "After writing the function use it to align the reference sequence `./Q2b_reference.txt` and the short read provided below. The reference is a partial version of the human Y-chromosome reference found at ftp://ftp.ncbi.nih.gov/genomes/H_sapiens/CHR_Y/.\n",
        "\n",
        "Set the variable `score_fitting` to the fitting alignment score, and set the `alignment_fitting` to the output of the `traceback_fitting` function. You can use the scoring matrix defined below.\n",
        "\n",
        "** Note: The reference sequence is very large, and so the fitting alignment will take a few minutes. Make sure you use dynamic programming to implement your alignment functions, or the cell will never finish. **"
      ]
    },
    {
      "cell_type": "code",
      "execution_count": 91,
      "metadata": {
        "colab": {
          "base_uri": "https://localhost:8080/"
        },
        "id": "-bzNflRBOZhr",
        "outputId": "d5f6beb4-0639-454d-ab8a-c29ba3f89ef1"
      },
      "outputs": [
        {
          "output_type": "stream",
          "name": "stdout",
          "text": [
            "33 AGA--AGTGAGTTTTGGATAGTAAAATAAG-TTTCGAAC-TCTGG---CA-CCTT-T-CAATTT-TGTCGCACTCTCCTTG-TTTT-TG--ACAATGC-AATCATATGCT-TC-TGC-T\n",
            "AGATGATTG-GTTTTAGATA-T--TTTAAGTTTTCAAACATATGGATTCAGTGTTATAC-ATTTCTCTC-TACTC-CC-TGCTTTTCTGTAAC-CTGCAAAT-AT-TGATAGCGTGCAT\n"
          ]
        }
      ],
      "source": [
        "short = 'AGAAGTGAGTTTTGGATAGTAAAATAAGTTTCGAACTCTGGCACCTTTCAATTTTGTCGCACTCTCCTTGTTTTTGACAATGCAATCATATGCTTCTGCT'\n",
        "keys = ['A', 'C', 'T', 'G', '-']\n",
        "delta_fitting = {}\n",
        "for i in range(len(keys)):\n",
        "    delta_fitting[keys[i]] = {k : v for (k,v) in zip(keys, [1 if keys[i] == keys[j]  else -1 for j in range(len(keys))])}\n",
        "delta_fitting['-']['-'] = -1\n",
        "\n",
        "# Read the reference sequence, and call your fitting alignment function\n",
        "# YOUR CODE HERE\n",
        "f = open(\"Q2b_reference.txt\", \"r\")\n",
        "reference = f.read()\n",
        "score_fitting, alignment_fitting = fitting_align(short, reference, delta_fitting)\n",
        "print(score_fitting, alignment_fitting)"
      ]
    },
    {
      "cell_type": "markdown",
      "metadata": {
        "id": "uduGvQzLOZhw"
      },
      "source": [
        "## Question 2c - 5 points\n",
        "\n",
        "Find the name of the gene the short read in the question above originated from. Save your answer in variable `ANSWER` below.\n",
        "\n",
        "*Hint : There is an online tool that will do this for you*"
      ]
    },
    {
      "cell_type": "code",
      "execution_count": 92,
      "metadata": {
        "id": "BnFkAzwmJ2DX"
      },
      "outputs": [],
      "source": [
        "# YOUR CODE HERE\n",
        "ANSWER = 'SRY'\n",
        "#Sex Region Y; Human Y Chromosome"
      ]
    },
    {
      "cell_type": "markdown",
      "metadata": {
        "id": "7mlMDzKFOZhy"
      },
      "source": [
        "## Question 3 - Local Alignment - 15 points\n",
        "\n",
        "Finally, we use local alignment for things like aligning functional units of proteins called domains.\n",
        "\n",
        "Use the Smith-Waterman algorithm to complete the function `local_align` defined below that takes two strings `v` and `w` and a scoring matrix, and returns the maximum scoring global alignment across all substrings of `v` and `w`, as well as the alignment string produced by `traceback_local`. As with the above functions, you must record backpointers. This function is very similar to `traceback_fitting`, except it also takes the starting cell for the back trace in the form of coordinates `init_i, init_j`.\n",
        "\n",
        "** Note: In the case of ties with respect to determining the starting column for the backtrace, use the bottom-right most cell.**"
      ]
    },
    {
      "cell_type": "code",
      "execution_count": 94,
      "metadata": {
        "id": "pCgYmqFYOZhy"
      },
      "outputs": [],
      "source": [
        "UP = (-1,0)\n",
        "LEFT = (0, -1)\n",
        "TOPLEFT = (-1, -1)\n",
        "ORIGIN = (0, 0)\n",
        "\n",
        "def traceback_local(v, w, M, init_i, init_j, pointers):\n",
        "    i,j = init_i, init_j\n",
        "    new_v = []\n",
        "    new_w = []\n",
        "    while True:\n",
        "        di, dj = pointers[i][j]\n",
        "        if (di,dj) == LEFT:\n",
        "            new_v.append('-')\n",
        "            new_w.append(w[j-1])\n",
        "        elif (di,dj) == UP:\n",
        "            new_v.append(v[i-1])\n",
        "            new_w.append('-')\n",
        "        elif (di,dj) == TOPLEFT:\n",
        "            new_v.append(v[i-1])\n",
        "            new_w.append(w[j-1])\n",
        "        i, j = i + di, j + dj\n",
        "        if (M[i][j] == 0):\n",
        "            break\n",
        "    return ''.join(new_v[::-1]) + '\\n'+''.join(new_w[::-1])\n",
        "\n",
        "def local_align(v, w, delta):\n",
        "    \"\"\"\n",
        "    Returns the score of the maximum scoring alignment of all possible substrings of v and w.\n",
        "\n",
        "    :param: v\n",
        "    :param: w\n",
        "    :param: delta\n",
        "    \"\"\"\n",
        "    M = [[0 for j in range(len(w)+1)] for i in range(len(v)+1)]\n",
        "    pointers = [[ORIGIN for j in range(len(w)+1)] for i in range(len(v)+1)]\n",
        "    score = None\n",
        "    init_i, init_j = 0,0\n",
        "    # YOUR CODE HERE\n",
        "    xlen = len(v)\n",
        "    ylen = len(w)\n",
        "    score = -9999999999\n",
        "    # for i in range(1, xlen + 1):\n",
        "    #     M[i][0] = M[i-1][0] + delta[v[i-1]]['-']\n",
        "    for i in range(1, xlen + 1):\n",
        "        pointers[i][0] = UP\n",
        "\n",
        "    # for i in range(1, ylen + 1):\n",
        "    #   M[0][i] = M[0][i-1] + delta['-'][w[i-1]]\n",
        "    for i in range(1, ylen + 1):\n",
        "      pointers[0][i] = LEFT\n",
        "\n",
        "    # pointers[:,0] = UP\n",
        "    # pointers[0,:] = LEFT\n",
        "    for i in range(1, xlen + 1):\n",
        "        for j in range(1, ylen + 1):\n",
        "          if v[i-1] == w[j-1]:\n",
        "            matched = M[i-1][j-1] + 1\n",
        "          else:\n",
        "            matched = M[i-1][j-1] - 1\n",
        "          # matched = M[i-1][j-1] + delta[v[i-1]][w[j-1]]\n",
        "          # deletion = M[i-1][j] + delta[v[i-1]]['-']\n",
        "          deletion = M[i-1][j] - 1\n",
        "          # insertion = M[i][j-1] + delta['-'][w[j-1]]\n",
        "          insertion = M[i][j-1] - 1\n",
        "\n",
        "          M[i][j] = max(0, matched, deletion, insertion)\n",
        "\n",
        "          if M[i][j] == matched:\n",
        "            pointers[i][j] = TOPLEFT\n",
        "          elif M[i][j] == deletion:\n",
        "            pointers[i][j] = UP\n",
        "          else:\n",
        "            pointers[i][j] = LEFT\n",
        "          if M[i][j] >= score:\n",
        "            init_i = i\n",
        "            init_j = j\n",
        "            score = M[i][j]\n",
        "\n",
        "    # init_i = maxindex % xlen\n",
        "    # init_j = maxindex // xlen\n",
        "    # score = max(max(x) for x in M)\n",
        "    # for i in range(1, len(v) + 1):\n",
        "    #   for j in range(1, len(w) + 1):\n",
        "    #     match_ = M[i-1][j-1] + delta[v[i-1]][w[j-1]]\n",
        "    #     delete_ = M[i-1][j] + delta[v[i-1]]['-']\n",
        "    #     insert_ = M[i][j-1] + delta['-'][w[j-1]]\n",
        "\n",
        "    #     M[i][j] = max(match_, delete_, insert_)\n",
        "\n",
        "    #     if M[i][j] == match_:\n",
        "    #       pointers[i][j] = TOPLEFT\n",
        "    #     elif M[i][j] == delete_:\n",
        "    #       pointers[i][j] = UP\n",
        "    #     else:\n",
        "    #       pointers[i][j] = LEFT\n",
        "\n",
        "    #     if M[i][j] >= score:\n",
        "    #       score = M[i][j]\n",
        "    #       init_i, init_j = i, j\n",
        "    alignment = traceback_local(v, w, M, init_i, init_j , pointers)\n",
        "    return score, alignment"
      ]
    },
    {
      "cell_type": "code",
      "execution_count": 95,
      "metadata": {
        "colab": {
          "base_uri": "https://localhost:8080/"
        },
        "id": "I2tynPENOZh1",
        "outputId": "7a757507-0036-4f8f-a73a-82704b594d45"
      },
      "outputs": [
        {
          "output_type": "execute_result",
          "data": {
            "text/plain": [
              "(3, 'TAG\\nTAG')"
            ]
          },
          "metadata": {},
          "execution_count": 95
        }
      ],
      "source": [
        "keys = ['A', 'C', 'T', 'G', '-']\n",
        "delta = {}\n",
        "for i in range(len(keys)):\n",
        "    delta[keys[i]] = {k : v for (k,v) in zip(keys, [1 if keys[i] == keys[j]  else -1 for j in range(len(keys))])}\n",
        "\n",
        "local_align(\"TAGATA\", \"GTAGGCTTAAGGTTA\", delta)"
      ]
    },
    {
      "cell_type": "markdown",
      "metadata": {
        "id": "YcDDM9K8OZh3"
      },
      "source": [
        "Use your `local_align` function to find the common domain between the two amino acid sequences given below.\n",
        "* Set the `score_local` variable to the output of your function.\n",
        "* Set the `alignment_local` variable to the output of the `traceback_local` function."
      ]
    },
    {
      "cell_type": "code",
      "execution_count": 96,
      "metadata": {
        "colab": {
          "base_uri": "https://localhost:8080/"
        },
        "id": "Q7gESLZxOZh4",
        "outputId": "aca34db4-6d6f-440a-b27c-8f5f57ae546d"
      },
      "outputs": [
        {
          "output_type": "stream",
          "name": "stdout",
          "text": [
            "159\n"
          ]
        }
      ],
      "source": [
        "LTK_MOUSE = \"MGCSHRLLLWLGAAGTILCSNSEFQTPFLTPSLLPVLVLNSQEQKVTPTP\\\n",
        "SKLEPASLPNPLGTRGPWVFNTCGASGRSGPTQTQCDGAYTGSSVMVTVG\\\n",
        "AAGPLKGVQLWRVPDTGQYLISAYGAAGGKGAQNHLSRAHGIFLSAVFFL\\\n",
        "RRGEPVYILVGQQGQDACPGGSPESQLVCLGESGEHATTYGTERIPGWRR\\\n",
        "WAGGGGGGGGATSIFRLRAGEPEPLLVAAGGGGRSYRRRPDRGRTQAVPE\\\n",
        "RLETRAAAPGSGGRGGAAGGGSGWTSRAHSPQAGRSPREGAEGGEGCAEA\\\n",
        "WAALRWAAAGGFGGGGGACAAGGGGGGYRGGDTSESDLLWADGEDGTSFV\\\n",
        "HPSGELYLQPLAVTEGHGEVEIRKHPNCSHCPFKDCQWQAELWTAECTCP\\\n",
        "EGTELAVDNVTCMDLPTTASPLILMGAVVAALALSLLMMCAVLILVNQKC\\\n",
        "QGLWGTRLPGPELELSKLRSSAIRTAPNPYYCQVGLSPAQPWPLPPGLTE\\\n",
        "VSPANVTLLRALGHGAFGEVYEGLVTGLPGDSSPLPVAIKTLPELCSHQD\\\n",
        "ELDFLMEALIISKFSHQNIVRCVGLSFRSAPRLILLELMSGGDMKSFLRH\\\n",
        "SRPHPGQLAPLTMQDLLQLAQDIAQGCHYLEENHFIHRDIAARNCLLSCS\\\n",
        "GASRVAKIGDFGMARDIYQASYYRKGGRTLLPVKWMPPEALLEGLFTSKT\\\n",
        "DSWSFGVLLWEIFSLGYMPYPGHTNQEVLDFIATGNRMDPPRNCPGPVYR\\\n",
        "IMTQCWQHQPELRPDFGSILERIQYCTQDPDVLNSPLPVEPGPILEEEEA\\\n",
        "SRLGNRSLEGLRSPKPLELSSQNLKSWGGGLLGSWLPSGLKTLKPRCLQP\\\n",
        "QNIWNPTYGSWTPRGPQGEDTGIEHCNGSSSSSIPGIQ\"\n",
        "\n",
        "ATK_MOUSE = \"MGAAGFLWLLPPLLLAAASYSGAATDQRAGSPASGPPLQPREPLSYSRLQ\\\n",
        "RKSLAVDFVVPSLFRVYARDLLLPQPRSPSEPEAGGLEARGSLALDCEPL\\\n",
        "LRLLGPLPGISWADGASSPSPEAGPTLSRVLKGGSVRKLRRAKQLVLELG\\\n",
        "EETILEGCIGPPEEVAAVGILQFNLSELFSWWILHGEGRLRIRLMPEKKA\\\n",
        "SEVGREGRLSSAIRASQPRLLFQIFGTGHSSMESPSETPSPPGTFMWNLT\\\n",
        "WTMKDSFPFLSHRSRYGLECSFDFPCELEYSPPLHNHGNQSWSWRHVPSE\\\n",
        "EASRMNLLDGPEAEHSQEMPRGSFLLLNTSADSKHTILSPWMRSSSDHCT\\\n",
        "LAVSVHRHLQPSGRYVAQLLPHNEAGREILLVPTPGKHGWTVLQGRVGRP\\\n",
        "ANPFRVALEYISSGNRSLSAVDFFALKNCSEGTSPGSKMALQSSFTCWNG\\\n",
        "TVLQLGQACDFHQDCAQGEDEGQLCSKLPAGFYCNFENGFCGWTQSPLSP\\\n",
        "HMPRWQVRTLRDAHSQGHQGRALLLSTTDILASEGATVTSATFPAPMKNS\\\n",
        "PCELRMSWLIRGVLRGNVSLVLVENKTGKEQSRTVWHVATDEGLSLWQHT\\\n",
        "VLSLLDVTDRFWLQIVTWWGPGSRATVGFDNISISLDCYLTISGEEKMSL\\\n",
        "NSVPKSRNLFEKNPNKESKSWANISGPTPIFDPTVHWLFTTCGASGPHGP\\\n",
        "TQAQCNNAYQNSNLSVVVGSEGPLKGVQIWKVPATDTYSISGYGAAGGKG\\\n",
        "GKNTMMRSHGVSVLGIFNLEKGDTLYILVGQQGEDACPRANQLIQKVCVG\\\n",
        "ENNVIEEEIRVNRSVHEWAGGGGGGGGATYVFKMKDGVPVPLIIAAGGGG\\\n",
        "RAYGAKTETFHPERLESNSSVLGLNGNSGAAGGGGGWNDNTSLLWAGKSL\\\n",
        "LEGAAGGHSCPQAMKKWGWETRGGFGGGGGGCSSGGGGGGYIGGNAASNN\\\n",
        "DPEMDGEDGVSFISPLGILYTPALKVMEGHGEVNIKHYLNCSHCEVDECH\\\n",
        "MDPESHKVICFCDHGTVLADDGVSCIVSPTPEPHLPLSLILSVVTSALVA\\\n",
        "ALVLAFSGIMIVYRRKHQELQAMQMELQSPEYKLSKLRTSTIMTDYNPNY\\\n",
        "CFAGKTSSISDLKEVPRKNITLIRGLGHGAFGEVYEGQVSGMPNDPSPLQ\\\n",
        "VAVKTLPEVCSEQDELDFLMEALIISKFNHQNIVRCIGVSLQALPRFILL\\\n",
        "ELMAGGDLKSFLRETRPRPNQPTSLAMLDLLHVARDIACGCQYLEENHFI\\\n",
        "HRDIAARNCLLTCPGAGRIAKIGDFGMARDIYRASYYRKGGCAMLPVKWM\\\n",
        "PPEAFMEGIFTSKTDTWSFGVLLWEIFSLGYMPYPSKSNQEVLEFVTSGG\\\n",
        "RMDPPKNCPGPVYRIMTQCWQHQPEDRPNFAIILERIEYCTQDPDVINTA\\\n",
        "LPIEYGPVVEEEEKVPMRPKDPEGMPPLLVSPQPAKHEEASAAPQPAALT\\\n",
        "APGPSVKKPPGAGAGAGAGAGAGPVPRGAADRGHVNMAFSQPNPPPELHK\\\n",
        "GPGSRNKPTSLWNPTYGSWFTEKPAKKTHPPPGAEPQARAGAAEGGWTGP\\\n",
        "GAGPRRAEAALLLEPSALSATMKEVPLFRLRHFPCGNVNYGYQQQGLPLE\\\n",
        "ATAAPGDTMLKSKNKVTQPGP\"\n",
        "\n",
        "score_local, alignment_local = None, None\n",
        "# YOUR CODE HERE\n",
        "score_local, alignment_local = local_align(LTK_MOUSE, ATK_MOUSE, delta)\n",
        "print(score_local)"
      ]
    },
    {
      "cell_type": "code",
      "execution_count": 97,
      "metadata": {
        "id": "bgL8YgDtOZh7"
      },
      "outputs": [],
      "source": [
        "import nose.tools as Test\n",
        "# Student test cases (You may add more)\n",
        "keys = ['A', 'C', 'T', 'G', '-']\n",
        "delta_local = {}\n",
        "for i in range(len(keys)):\n",
        "    delta_local[keys[i]] = {k : v for (k,v) in zip(keys, [1 if keys[i] == keys[j]  else -1 for j in range(len(keys))])}\n",
        "delta_local['-']['-'] = -1\n",
        "Test.assert_equal(local_align(\"TACGTGACGTCTATCAT\", \"TTGTGCATGTATCTGAC\", delta_local)[0], 6)\n",
        "Test.assert_equal(local_align(\"ACTGATTTCGATGCTGTACGTGACGTACGTTTATTCTATCAT\", \"TCTGACTGTGACTATACTATTGTGCATGTATCTGACTAGCTAG\", delta_local)[0], 13)\n"
      ]
    },
    {
      "cell_type": "markdown",
      "metadata": {
        "id": "ljrUu28hOZhx"
      },
      "source": []
    }
  ],
  "metadata": {
    "colab": {
      "provenance": [],
      "include_colab_link": true
    },
    "kernelspec": {
      "display_name": "Python 3",
      "language": "python",
      "name": "python3"
    },
    "language_info": {
      "codemirror_mode": {
        "name": "ipython",
        "version": 3
      },
      "file_extension": ".py",
      "mimetype": "text/x-python",
      "name": "python",
      "nbconvert_exporter": "python",
      "pygments_lexer": "ipython3",
      "version": "3.8.5"
    }
  },
  "nbformat": 4,
  "nbformat_minor": 0
}